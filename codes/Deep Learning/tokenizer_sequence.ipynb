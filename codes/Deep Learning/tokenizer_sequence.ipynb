{
 "cells": [
  {
   "cell_type": "code",
   "execution_count": 36,
   "metadata": {
    "colab": {
     "base_uri": "https://localhost:8080/"
    },
    "id": "layj7RrXYhHS",
    "outputId": "d0a0fe85-22f0-4aa5-a15e-2ed42da987f5"
   },
   "outputs": [],
   "source": [
    "import pandas as pd\n",
    "\n",
    "corpus = [\"서울 코로나 상생지원금 문의입니다.\",\n",
    "\"인천 지하철 운행시간 문의입니다.\",\n",
    "\"버스 운행시간 문의입니다.\",\n",
    "]"
   ]
  },
  {
   "cell_type": "code",
   "execution_count": 37,
   "metadata": {
    "colab": {
     "base_uri": "https://localhost:8080/"
    },
    "id": "0fkbfHCwrYbl",
    "outputId": "2ba403f6-843d-42ca-fe78-6e45cb0d1b84"
   },
   "outputs": [],
   "source": [
    "\n",
    "from tensorflow.keras.preprocessing.text import Tokenizer\n",
    "\n",
    "vocab_size = 15  \n",
    "# tokenizer\n",
    "tokenizer = Tokenizer(num_words=vocab_size, oov_token=\"<OOV>\")"
   ]
  },
  {
   "cell_type": "code",
   "execution_count": 38,
   "metadata": {
    "id": "qH1gu3mIlFiD"
   },
   "outputs": [
    {
     "data": {
      "text/plain": [
       "{'<OOV>': 1,\n",
       " '문의입니다': 2,\n",
       " '운행시간': 3,\n",
       " '서울': 4,\n",
       " '코로나': 5,\n",
       " '상생지원금': 6,\n",
       " '인천': 7,\n",
       " '지하철': 8,\n",
       " '버스': 9}"
      ]
     },
     "execution_count": 38,
     "metadata": {},
     "output_type": "execute_result"
    }
   ],
   "source": [
    "\n",
    "tokenizer.fit_on_texts(corpus)\n",
    "tokenizer.word_index"
   ]
  },
  {
   "cell_type": "code",
   "execution_count": 39,
   "metadata": {
    "colab": {
     "base_uri": "https://localhost:8080/",
     "height": 327
    },
    "id": "-481DN7osWEX",
    "outputId": "3283399e-4834-4d3f-b31b-1f7c097d58e8"
   },
   "outputs": [
    {
     "data": {
      "text/html": [
       "<div>\n",
       "<style scoped>\n",
       "    .dataframe tbody tr th:only-of-type {\n",
       "        vertical-align: middle;\n",
       "    }\n",
       "\n",
       "    .dataframe tbody tr th {\n",
       "        vertical-align: top;\n",
       "    }\n",
       "\n",
       "    .dataframe thead th {\n",
       "        text-align: right;\n",
       "    }\n",
       "</style>\n",
       "<table border=\"1\" class=\"dataframe\">\n",
       "  <thead>\n",
       "    <tr style=\"text-align: right;\">\n",
       "      <th></th>\n",
       "      <th>서울</th>\n",
       "      <th>코로나</th>\n",
       "      <th>상생지원금</th>\n",
       "      <th>문의입니다</th>\n",
       "      <th>인천</th>\n",
       "      <th>지하철</th>\n",
       "      <th>운행시간</th>\n",
       "      <th>버스</th>\n",
       "    </tr>\n",
       "  </thead>\n",
       "  <tbody>\n",
       "    <tr>\n",
       "      <th>1</th>\n",
       "      <td>1</td>\n",
       "      <td>1</td>\n",
       "      <td>1</td>\n",
       "      <td>3</td>\n",
       "      <td>1</td>\n",
       "      <td>1</td>\n",
       "      <td>2</td>\n",
       "      <td>1</td>\n",
       "    </tr>\n",
       "  </tbody>\n",
       "</table>\n",
       "</div>"
      ],
      "text/plain": [
       "0  서울  코로나  상생지원금  문의입니다  인천  지하철  운행시간  버스\n",
       "1   1    1      1      3   1    1     2   1"
      ]
     },
     "execution_count": 39,
     "metadata": {},
     "output_type": "execute_result"
    }
   ],
   "source": [
    "df_word = pd.DataFrame(tokenizer.word_counts.items()).set_index(0).T\n",
    "df_word"
   ]
  },
  {
   "cell_type": "code",
   "execution_count": 40,
   "metadata": {
    "id": "drtrcSCkZ0JL"
   },
   "outputs": [
    {
     "data": {
      "text/plain": [
       "[[4, 5, 6, 2], [7, 8, 3, 2], [9, 3, 2]]"
      ]
     },
     "execution_count": 40,
     "metadata": {},
     "output_type": "execute_result"
    }
   ],
   "source": [
    "corpus_sequences = tokenizer.texts_to_sequences(corpus)\n",
    "corpus_sequences"
   ]
  },
  {
   "cell_type": "code",
   "execution_count": 46,
   "metadata": {
    "id": "-K4PBSWwZJNx"
   },
   "outputs": [
    {
     "data": {
      "text/plain": [
       "array([[4, 5, 6, 2, 0, 0, 0, 0, 0, 0],\n",
       "       [7, 8, 3, 2, 0, 0, 0, 0, 0, 0],\n",
       "       [9, 3, 2, 0, 0, 0, 0, 0, 0, 0]], dtype=int32)"
      ]
     },
     "execution_count": 46,
     "metadata": {},
     "output_type": "execute_result"
    }
   ],
   "source": [
    "from tensorflow.keras.preprocessing.sequence import pad_sequences\n",
    "\n",
    "pad_sequences(corpus_sequences, maxlen=10, padding='post')"
   ]
  },
  {
   "cell_type": "code",
   "execution_count": null,
   "metadata": {
    "colab": {
     "base_uri": "https://localhost:8080/"
    },
    "id": "VBLoHpSwZcnI",
    "outputId": "9a2eb9e8-505a-43ae-e84a-a895d92dca4f"
   },
   "outputs": [],
   "source": [
    "print(corpus)\n",
    "print(word_to_index)\n"
   ]
  },
  {
   "cell_type": "code",
   "execution_count": null,
   "metadata": {
    "colab": {
     "base_uri": "https://localhost:8080/"
    },
    "id": "cemv0J0dbF2h",
    "outputId": "87470081-7d88-44c0-bafc-8704000f6eb1"
   },
   "outputs": [],
   "source": [
    "max_length = 13"
   ]
  },
  {
   "cell_type": "code",
   "execution_count": 47,
   "metadata": {},
   "outputs": [],
   "source": [
    "corpus2 = [\"COVID-19 거리두기와 COVID-19 상생지원금 문의입니다.\",\n",
    "          \"지하철 운행시간과 지하철 요금 문의입니다.\",\n",
    "          \"지하철 승강장 문의입니다.\",\n",
    "          \"COVID-19 선별진료소 문의입니다.\",\n",
    "          \"버스 운행시간 문의입니다.\", \n",
    "          \"버스 터미널 위치 안내입니다.\",\n",
    "          \"코로나 거리두기 안내입니다.\",\n",
    "          \"TAXI 승강장 문의입니다.\"\n",
    "         ]"
   ]
  },
  {
   "cell_type": "code",
   "execution_count": 61,
   "metadata": {},
   "outputs": [
    {
     "data": {
      "text/plain": [
       "[[3, 8, 3, 9, 2],\n",
       " [4, 10, 4, 11, 2],\n",
       " [4, 5, 2],\n",
       " [3, 12, 2],\n",
       " [6, 13, 2],\n",
       " [6, 14, 15, 7],\n",
       " [3, 16, 7],\n",
       " [17, 5, 2]]"
      ]
     },
     "execution_count": 61,
     "metadata": {},
     "output_type": "execute_result"
    }
   ],
   "source": [
    "tokenizer = Tokenizer(num_words=20, oov_token=\"<OOV>\")\n",
    "tokenizer.fit_on_texts(corpus2)\n",
    "tokenizer.texts_to_sequences(corpus2)"
   ]
  },
  {
   "cell_type": "code",
   "execution_count": 59,
   "metadata": {},
   "outputs": [
    {
     "data": {
      "text/plain": [
       "array([[ 3,  8,  3,  9,  2],\n",
       "       [ 4, 10,  4, 11,  2],\n",
       "       [ 4,  5,  2,  0,  0],\n",
       "       [ 3, 12,  2,  0,  0],\n",
       "       [ 6, 13,  2,  0,  0],\n",
       "       [ 6, 14, 15,  7,  0],\n",
       "       [ 3, 16,  7,  0,  0],\n",
       "       [17,  5,  2,  0,  0]], dtype=int32)"
      ]
     },
     "execution_count": 59,
     "metadata": {},
     "output_type": "execute_result"
    }
   ],
   "source": [
    "pad_sequences(tokenizer.texts_to_sequences(corpus2), padding='post')"
   ]
  },
  {
   "cell_type": "code",
   "execution_count": 63,
   "metadata": {},
   "outputs": [
    {
     "data": {
      "text/plain": [
       "[[1, 3, 9, 2]]"
      ]
     },
     "execution_count": 63,
     "metadata": {},
     "output_type": "execute_result"
    }
   ],
   "source": [
    "tokenizer.texts_to_sequences(['서울 코로나 상생지원금 문의입니다.'])"
   ]
  }
 ],
 "metadata": {
  "colab": {
   "collapsed_sections": [],
   "name": "text-sequence",
   "provenance": []
  },
  "kernelspec": {
   "display_name": "Python 3.9.12",
   "language": "python",
   "name": "python3"
  },
  "language_info": {
   "codemirror_mode": {
    "name": "ipython",
    "version": 3
   },
   "file_extension": ".py",
   "mimetype": "text/x-python",
   "name": "python",
   "nbconvert_exporter": "python",
   "pygments_lexer": "ipython3",
   "version": "3.9.12"
  },
  "toc": {
   "base_numbering": 1,
   "nav_menu": {},
   "number_sections": true,
   "sideBar": true,
   "skip_h1_title": false,
   "title_cell": "Table of Contents",
   "title_sidebar": "Contents",
   "toc_cell": false,
   "toc_position": {
    "height": "calc(100% - 180px)",
    "left": "10px",
    "top": "150px",
    "width": "256px"
   },
   "toc_section_display": true,
   "toc_window_display": false
  },
  "varInspector": {
   "cols": {
    "lenName": 16,
    "lenType": 16,
    "lenVar": 40
   },
   "kernels_config": {
    "python": {
     "delete_cmd_postfix": "",
     "delete_cmd_prefix": "del ",
     "library": "var_list.py",
     "varRefreshCmd": "print(var_dic_list())"
    },
    "r": {
     "delete_cmd_postfix": ") ",
     "delete_cmd_prefix": "rm(",
     "library": "var_list.r",
     "varRefreshCmd": "cat(var_dic_list()) "
    }
   },
   "types_to_exclude": [
    "module",
    "function",
    "builtin_function_or_method",
    "instance",
    "_Feature"
   ],
   "window_display": false
  },
  "vscode": {
   "interpreter": {
    "hash": "40d3a090f54c6569ab1632332b64b2c03c39dcf918b08424e98f38b5ae0af88f"
   }
  }
 },
 "nbformat": 4,
 "nbformat_minor": 1
}
