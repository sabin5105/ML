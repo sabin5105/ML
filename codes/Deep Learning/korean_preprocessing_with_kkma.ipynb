{
 "cells": [
  {
   "cell_type": "code",
   "execution_count": 1,
   "metadata": {},
   "outputs": [],
   "source": [
    "import pandas as pd\n",
    "import numpy as np"
   ]
  },
  {
   "cell_type": "code",
   "execution_count": 2,
   "metadata": {},
   "outputs": [
    {
     "name": "stdout",
     "output_type": "stream",
     "text": [
      "data/open/ 경로에 파일이 이미 있음\n"
     ]
    }
   ],
   "source": [
    "\n",
    "import os, platform\n",
    "base_path = \"data/open/\"\n",
    "\n",
    "def file_exist_check(base_path):\n",
    "    if os.path.exists(f\"{base_path}train_data.csv\"):\n",
    "        print(f\"{base_path} 경로에 파일이 이미 있음\")\n",
    "        return\n",
    "    \n",
    "    if platform.system() == \"Linux\":\n",
    "        print(f\"파일을 다운로드 하고 {base_path} 경로에 압축을 해제함\")\n",
    "        !wget https://bit.ly/dacon-klue-open-zip\n",
    "        if not os.path.exists(base_path):\n",
    "            os.makedirs(base_path)\n",
    "        !unzip dacon-klue-open-zip -d data/klue\n",
    "    else:\n",
    "        print(f\"\"\"https://dacon.io/competitions/official/235747/data 에서 다운로드 하고\n",
    "              실습 경로 {base_path}에 옮겨주세요.\"\"\")\n",
    "    return\n",
    "    \n",
    "file_exist_check(base_path) "
   ]
  },
  {
   "cell_type": "code",
   "execution_count": 3,
   "metadata": {},
   "outputs": [
    {
     "data": {
      "text/plain": [
       "((45654, 3), (9131, 2))"
      ]
     },
     "execution_count": 3,
     "metadata": {},
     "output_type": "execute_result"
    }
   ],
   "source": [
    "train = pd.read_csv(f\"{base_path}train_data.csv\")\n",
    "test = pd.read_csv(f\"{base_path}test_data.csv\")\n",
    "train.shape, test.shape"
   ]
  },
  {
   "cell_type": "code",
   "execution_count": 4,
   "metadata": {},
   "outputs": [
    {
     "data": {
      "text/html": [
       "<div>\n",
       "<style scoped>\n",
       "    .dataframe tbody tr th:only-of-type {\n",
       "        vertical-align: middle;\n",
       "    }\n",
       "\n",
       "    .dataframe tbody tr th {\n",
       "        vertical-align: top;\n",
       "    }\n",
       "\n",
       "    .dataframe thead th {\n",
       "        text-align: right;\n",
       "    }\n",
       "</style>\n",
       "<table border=\"1\" class=\"dataframe\">\n",
       "  <thead>\n",
       "    <tr style=\"text-align: right;\">\n",
       "      <th></th>\n",
       "      <th>topic</th>\n",
       "      <th>topic_idx</th>\n",
       "    </tr>\n",
       "  </thead>\n",
       "  <tbody>\n",
       "    <tr>\n",
       "      <th>0</th>\n",
       "      <td>IT과학</td>\n",
       "      <td>0</td>\n",
       "    </tr>\n",
       "    <tr>\n",
       "      <th>1</th>\n",
       "      <td>경제</td>\n",
       "      <td>1</td>\n",
       "    </tr>\n",
       "    <tr>\n",
       "      <th>2</th>\n",
       "      <td>사회</td>\n",
       "      <td>2</td>\n",
       "    </tr>\n",
       "    <tr>\n",
       "      <th>3</th>\n",
       "      <td>생활문화</td>\n",
       "      <td>3</td>\n",
       "    </tr>\n",
       "    <tr>\n",
       "      <th>4</th>\n",
       "      <td>세계</td>\n",
       "      <td>4</td>\n",
       "    </tr>\n",
       "    <tr>\n",
       "      <th>5</th>\n",
       "      <td>스포츠</td>\n",
       "      <td>5</td>\n",
       "    </tr>\n",
       "    <tr>\n",
       "      <th>6</th>\n",
       "      <td>정치</td>\n",
       "      <td>6</td>\n",
       "    </tr>\n",
       "  </tbody>\n",
       "</table>\n",
       "</div>"
      ],
      "text/plain": [
       "  topic  topic_idx\n",
       "0  IT과학          0\n",
       "1    경제          1\n",
       "2    사회          2\n",
       "3  생활문화          3\n",
       "4    세계          4\n",
       "5   스포츠          5\n",
       "6    정치          6"
      ]
     },
     "execution_count": 4,
     "metadata": {},
     "output_type": "execute_result"
    }
   ],
   "source": [
    "topic = pd.read_csv(f\"{base_path}topic_dict.csv\")\n",
    "topic"
   ]
  },
  {
   "cell_type": "code",
   "execution_count": 5,
   "metadata": {},
   "outputs": [],
   "source": [
    "import re\n",
    "\n",
    "def preprocessing(text):\n",
    "    # 한글, 영문, 숫자만 남기고 모두 제거하도록 합니다.\n",
    "    text = re.sub('[^가-힣ㄱ-ㅎㅏ-ㅣa-zA-Z0-9]', ' ', text)\n",
    "    # 중복으로 생성된 공백값을 제거합니다.\n",
    "    text = re.sub('[\\s]+', ' ', text)\n",
    "    # 영문자를 소문자로 만듭니다.\n",
    "    text = text.lower()\n",
    "    return text"
   ]
  },
  {
   "cell_type": "code",
   "execution_count": 6,
   "metadata": {},
   "outputs": [],
   "source": [
    "train[\"title\"] = train[\"title\"].map(preprocessing)\n",
    "test[\"title\"] = test[\"title\"].map(preprocessing)"
   ]
  },
  {
   "cell_type": "code",
   "execution_count": 7,
   "metadata": {},
   "outputs": [
    {
     "data": {
      "text/plain": [
       "'버스의 운행시간을 문의합니다. 어?!'"
      ]
     },
     "execution_count": 7,
     "metadata": {},
     "output_type": "execute_result"
    }
   ],
   "source": [
    "small_text = \"버스의 운행시간을 문의합니다. 어?!\"\n",
    "small_text"
   ]
  },
  {
   "cell_type": "code",
   "execution_count": 8,
   "metadata": {},
   "outputs": [],
   "source": [
    "from konlpy.tag import Kkma\n",
    "from konlpy.tag import Mecab"
   ]
  },
  {
   "cell_type": "code",
   "execution_count": 10,
   "metadata": {
    "scrolled": true
   },
   "outputs": [
    {
     "data": {
      "text/plain": [
       "[('버스', 'Noun'),\n",
       " ('의', 'Josa'),\n",
       " ('운행', 'Noun'),\n",
       " ('시간', 'Noun'),\n",
       " ('을', 'Josa'),\n",
       " ('문의', 'Noun'),\n",
       " ('하다', 'Verb'),\n",
       " ('.', 'Punctuation'),\n",
       " ('어', 'Eomi'),\n",
       " ('?!', 'Punctuation')]"
      ]
     },
     "execution_count": 10,
     "metadata": {},
     "output_type": "execute_result"
    }
   ],
   "source": [
    "from konlpy.tag import Okt\n",
    "\n",
    "sample_text = Okt().pos(small_text, stem=True)\n",
    "sample_text"
   ]
  },
  {
   "cell_type": "code",
   "execution_count": 28,
   "metadata": {},
   "outputs": [
    {
     "data": {
      "text/plain": [
       "'지금 배 너무 고프다 ㅠㅠ'"
      ]
     },
     "execution_count": 28,
     "metadata": {},
     "output_type": "execute_result"
    }
   ],
   "source": [
    "def okt_clean(text):\n",
    "    clean_text = []\n",
    "    pos_text = Okt().pos(text, stem=True)\n",
    "    for word, tag in pos_text:\n",
    "        if tag not in ['Josa', 'Eomi', 'Punctuation']:\n",
    "            clean_text.append(word)\n",
    "            \n",
    "    return ' '.join(clean_text)\n",
    "\n",
    "okt_clean(\"지금 배가 너무 고프다 ㅠㅠ :)\")"
   ]
  },
  {
   "cell_type": "code",
   "execution_count": 31,
   "metadata": {},
   "outputs": [
    {
     "name": "stderr",
     "output_type": "stream",
     "text": [
      "100%|██████████| 45654/45654 [00:36<00:00, 1241.94it/s]\n",
      "100%|██████████| 9131/9131 [00:06<00:00, 1356.89it/s]\n"
     ]
    }
   ],
   "source": [
    "from tqdm import tqdm\n",
    "tqdm.pandas() \n",
    "\n",
    "train['title_text'] = train['title'].progress_apply(okt_clean)\n",
    "test['title_text'] = test['title'].progress_apply(okt_clean)"
   ]
  },
  {
   "cell_type": "code",
   "execution_count": 32,
   "metadata": {},
   "outputs": [
    {
     "data": {
      "text/plain": [
       "0                인천 핀란드 항공기 결항 휴가 철 여행객 분통\n",
       "1           실리콘밸리 넘어서다 구글 15조원 들이다 전역 거점 화\n",
       "2          이란 외무 긴장 완화 해결 책 미국 경제 전쟁 멈추다 것\n",
       "3    nyt 클린턴 측근 기업 특수 관계 조명 공과 사 맞다 물리다 종합\n",
       "4                시진핑 트럼프 중미 무역 협상 조속 타결 희망\n",
       "Name: title_text, dtype: object"
      ]
     },
     "execution_count": 32,
     "metadata": {},
     "output_type": "execute_result"
    }
   ],
   "source": [
    "train['title_text'].head()"
   ]
  },
  {
   "cell_type": "code",
   "execution_count": 33,
   "metadata": {},
   "outputs": [
    {
     "data": {
      "text/plain": [
       "0              유튜브 내달 2일 까지 크리에이터 지원 공간 운영\n",
       "1                 어버이날 맑다 흐려지다 남부 지방 옅다 황사\n",
       "2                내년 국가 rd 평가 때 논문 건수 반영 않다\n",
       "3          김명자 신임 과총 회장 원로 젊다 과학자 지혜 모으다 것\n",
       "4    회색 인간 작가 김 동식 양심 고백 등 새 소설 집 2 권 추다 간\n",
       "Name: title_text, dtype: object"
      ]
     },
     "execution_count": 33,
     "metadata": {},
     "output_type": "execute_result"
    }
   ],
   "source": [
    "test['title_text'].head()"
   ]
  },
  {
   "cell_type": "code",
   "execution_count": 34,
   "metadata": {},
   "outputs": [],
   "source": [
    "def remove_stopwords(text):\n",
    "    tokens = text.split(' ')\n",
    "    stops = [ '합니다', '하는', '할', '하고', '한다', \n",
    "             '그리고', '입니다', '그', '등', '이런', '및','제', '더']\n",
    "    meaningful_words = [w for w in tokens if not w in stops]\n",
    "    return ' '.join(meaningful_words)"
   ]
  },
  {
   "cell_type": "code",
   "execution_count": 37,
   "metadata": {},
   "outputs": [
    {
     "data": {
      "text/plain": [
       "0                    인천 핀란드 항공기 결항 휴가 철 여행객 분통\n",
       "1               실리콘밸리 넘어서다 구글 15조원 들이다 전역 거점 화\n",
       "2              이란 외무 긴장 완화 해결 책 미국 경제 전쟁 멈추다 것\n",
       "3        nyt 클린턴 측근 기업 특수 관계 조명 공과 사 맞다 물리다 종합\n",
       "4                    시진핑 트럼프 중미 무역 협상 조속 타결 희망\n",
       "                         ...                  \n",
       "45649             kb 금융 미국 ib 스티펠 제휴 선진국 시장 공략\n",
       "45650        1 보 서울시 교육청 신종 코로나 확산 개학 연기 휴업 검토\n",
       "45651        게시판 키우다 증권 2020 키우다 영웅 전 실전 투자 대회\n",
       "45652                   답변 하다 배 기동 국립 중앙 박물관 장\n",
       "45653    2020 한국 인터넷 기자 상 시상식 내달 1일 개최 특별상 김성후\n",
       "Name: title, Length: 45654, dtype: object"
      ]
     },
     "execution_count": 37,
     "metadata": {},
     "output_type": "execute_result"
    }
   ],
   "source": [
    "train[\"title\"] = train[\"title_text\"].map(remove_stopwords)\n",
    "test[\"title\"] = test[\"title_text\"].map(remove_stopwords)\n",
    "train[\"title\"]"
   ]
  },
  {
   "cell_type": "code",
   "execution_count": 36,
   "metadata": {},
   "outputs": [
    {
     "data": {
      "text/plain": [
       "0            유튜브 내달 2일까지 크리에이터 지원 공간 운영\n",
       "1               어버이날 맑다가 흐려져 남부지방 옅은 황사\n",
       "2           내년부터 국가rd 평가 때 논문건수는 반영 않는다\n",
       "3       김명자 신임 과총 회장 원로와 젊은 과학자 지혜 모을 것\n",
       "4          회색인간 작가 김동식 양심고백 새 소설집 2권 출간\n",
       "                     ...               \n",
       "9126       인천 오후 3시35분 대설주의보 눈 3 1cm 쌓여\n",
       "9127      노래방에서 지인 성추행 외교부 사무관 불구속 입건종합\n",
       "9128       40년 전 부마항쟁 부산 시위 사진 2점 최초 공개\n",
       "9129      게시판 아리랑tv 아프리카개발은행 총회 개회식 생중계\n",
       "9130    유영민 과기장관 강소특구는 지역 혁신의 중심 지원책 강구\n",
       "Name: title, Length: 9131, dtype: object"
      ]
     },
     "execution_count": 36,
     "metadata": {},
     "output_type": "execute_result"
    }
   ],
   "source": [
    "test[\"title\"]"
   ]
  },
  {
   "cell_type": "code",
   "execution_count": 38,
   "metadata": {},
   "outputs": [],
   "source": [
    "X_train_text = train['title_text']\n",
    "X_test_text = test['title_text']"
   ]
  },
  {
   "cell_type": "code",
   "execution_count": 40,
   "metadata": {},
   "outputs": [],
   "source": [
    "label_name = 'topic_idx'"
   ]
  },
  {
   "cell_type": "code",
   "execution_count": 41,
   "metadata": {},
   "outputs": [
    {
     "data": {
      "text/plain": [
       "4    7629\n",
       "2    7362\n",
       "5    6933\n",
       "6    6751\n",
       "1    6222\n",
       "3    5933\n",
       "0    4824\n",
       "Name: topic_idx, dtype: int64"
      ]
     },
     "execution_count": 41,
     "metadata": {},
     "output_type": "execute_result"
    }
   ],
   "source": [
    "\n",
    "y_train = train[label_name]\n",
    "y_train.value_counts()"
   ]
  }
 ],
 "metadata": {
  "kernelspec": {
   "display_name": "Python 3.9.12",
   "language": "python",
   "name": "python3"
  },
  "language_info": {
   "codemirror_mode": {
    "name": "ipython",
    "version": 3
   },
   "file_extension": ".py",
   "mimetype": "text/x-python",
   "name": "python",
   "nbconvert_exporter": "python",
   "pygments_lexer": "ipython3",
   "version": "3.9.12"
  },
  "toc": {
   "base_numbering": 1,
   "nav_menu": {},
   "number_sections": true,
   "sideBar": true,
   "skip_h1_title": false,
   "title_cell": "Table of Contents",
   "title_sidebar": "Contents",
   "toc_cell": false,
   "toc_position": {
    "height": "calc(100% - 180px)",
    "left": "10px",
    "top": "150px",
    "width": "320px"
   },
   "toc_section_display": true,
   "toc_window_display": true
  },
  "varInspector": {
   "cols": {
    "lenName": 16,
    "lenType": 16,
    "lenVar": 40
   },
   "kernels_config": {
    "python": {
     "delete_cmd_postfix": "",
     "delete_cmd_prefix": "del ",
     "library": "var_list.py",
     "varRefreshCmd": "print(var_dic_list())"
    },
    "r": {
     "delete_cmd_postfix": ") ",
     "delete_cmd_prefix": "rm(",
     "library": "var_list.r",
     "varRefreshCmd": "cat(var_dic_list()) "
    }
   },
   "types_to_exclude": [
    "module",
    "function",
    "builtin_function_or_method",
    "instance",
    "_Feature"
   ],
   "window_display": false
  },
  "vscode": {
   "interpreter": {
    "hash": "40d3a090f54c6569ab1632332b64b2c03c39dcf918b08424e98f38b5ae0af88f"
   }
  }
 },
 "nbformat": 4,
 "nbformat_minor": 4
}
