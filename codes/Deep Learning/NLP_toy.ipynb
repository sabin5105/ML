{
 "cells": [
  {
   "cell_type": "code",
   "execution_count": 2,
   "metadata": {},
   "outputs": [
    {
     "data": {
      "text/plain": [
       "'1.0.2'"
      ]
     },
     "execution_count": 2,
     "metadata": {},
     "output_type": "execute_result"
    }
   ],
   "source": [
    "\n",
    "import sklearn\n",
    "sklearn.__version__"
   ]
  },
  {
   "cell_type": "code",
   "execution_count": 3,
   "metadata": {},
   "outputs": [],
   "source": [
    "import pandas as pd\n",
    "import numpy as np\n",
    "import seaborn as sns\n",
    "import matplotlib.pyplot as plt"
   ]
  },
  {
   "cell_type": "code",
   "execution_count": 4,
   "metadata": {},
   "outputs": [],
   "source": [
    "def get_font_family():\n",
    "    \"\"\"\n",
    "    시스템 환경에 따른 기본 폰트명을 반환하는 함수\n",
    "    \"\"\"\n",
    "    import platform\n",
    "    system_name = platform.system()\n",
    "\n",
    "    if system_name == \"Darwin\" :\n",
    "        font_family = \"AppleGothic\"\n",
    "    elif system_name == \"Windows\":\n",
    "        font_family = \"Malgun Gothic\"\n",
    "    else:\n",
    "        # Linux(Colab)\n",
    "        !apt-get install fonts-nanum -qq  > /dev/null\n",
    "        !fc-cache -fv\n",
    "\n",
    "        import matplotlib as mpl\n",
    "        mpl.font_manager._rebuild()\n",
    "        findfont = mpl.font_manager.fontManager.findfont\n",
    "        mpl.font_manager.findfont = findfont\n",
    "        mpl.backends.backend_agg.findfont = findfont\n",
    "        \n",
    "        font_family = \"NanumBarunGothic\"\n",
    "    return font_family\n",
    "\n",
    "plt.style.use(\"seaborn\")\n",
    "plt.rc(\"font\", family=get_font_family())\n",
    "plt.rc(\"axes\", unicode_minus=False)\n",
    "\n",
    "%config InlineBackend.figure_format = 'retina'"
   ]
  },
  {
   "cell_type": "code",
   "execution_count": 6,
   "metadata": {},
   "outputs": [],
   "source": [
    "corpus = [\"코로나 거리두기와 코로나 상생지원금 문의입니다.\",\n",
    "          \"지하철 운행시간과 지하철 요금 문의입니다.\",\n",
    "          \"지하철 승강장 문의입니다.\",\n",
    "          \"코로나 선별진료소 문의입니다.\",\n",
    "          \"버스 운행시간 문의입니다.\", \n",
    "          \"버스 터미널 위치 안내입니다.\",\n",
    "          \"코로나 거리두기 안내입니다.\",\n",
    "          \"택시 승강장 문의입니다.\"\n",
    "         ]"
   ]
  },
  {
   "cell_type": "code",
   "execution_count": 14,
   "metadata": {},
   "outputs": [],
   "source": [
    "df = pd.DataFrame(columns=['문서','분류'])\n",
    "df['문서'] = corpus"
   ]
  },
  {
   "cell_type": "code",
   "execution_count": 18,
   "metadata": {},
   "outputs": [
    {
     "data": {
      "text/html": [
       "<div>\n",
       "<style scoped>\n",
       "    .dataframe tbody tr th:only-of-type {\n",
       "        vertical-align: middle;\n",
       "    }\n",
       "\n",
       "    .dataframe tbody tr th {\n",
       "        vertical-align: top;\n",
       "    }\n",
       "\n",
       "    .dataframe thead th {\n",
       "        text-align: right;\n",
       "    }\n",
       "</style>\n",
       "<table border=\"1\" class=\"dataframe\">\n",
       "  <thead>\n",
       "    <tr style=\"text-align: right;\">\n",
       "      <th></th>\n",
       "      <th>문서</th>\n",
       "      <th>분류</th>\n",
       "    </tr>\n",
       "  </thead>\n",
       "  <tbody>\n",
       "    <tr>\n",
       "      <th>0</th>\n",
       "      <td>코로나 거리두기와 코로나 상생지원금 문의입니다.</td>\n",
       "      <td>보건</td>\n",
       "    </tr>\n",
       "    <tr>\n",
       "      <th>1</th>\n",
       "      <td>지하철 운행시간과 지하철 요금 문의입니다.</td>\n",
       "      <td>교통</td>\n",
       "    </tr>\n",
       "    <tr>\n",
       "      <th>2</th>\n",
       "      <td>지하철 승강장 문의입니다.</td>\n",
       "      <td>교통</td>\n",
       "    </tr>\n",
       "    <tr>\n",
       "      <th>3</th>\n",
       "      <td>코로나 선별진료소 문의입니다.</td>\n",
       "      <td>보건</td>\n",
       "    </tr>\n",
       "    <tr>\n",
       "      <th>4</th>\n",
       "      <td>버스 운행시간 문의입니다.</td>\n",
       "      <td>교통</td>\n",
       "    </tr>\n",
       "    <tr>\n",
       "      <th>5</th>\n",
       "      <td>버스 터미널 위치 안내입니다.</td>\n",
       "      <td>교통</td>\n",
       "    </tr>\n",
       "    <tr>\n",
       "      <th>6</th>\n",
       "      <td>코로나 거리두기 안내입니다.</td>\n",
       "      <td>보건</td>\n",
       "    </tr>\n",
       "    <tr>\n",
       "      <th>7</th>\n",
       "      <td>택시 승강장 문의입니다.</td>\n",
       "      <td>교통</td>\n",
       "    </tr>\n",
       "  </tbody>\n",
       "</table>\n",
       "</div>"
      ],
      "text/plain": [
       "                           문서  분류\n",
       "0  코로나 거리두기와 코로나 상생지원금 문의입니다.  보건\n",
       "1     지하철 운행시간과 지하철 요금 문의입니다.  교통\n",
       "2              지하철 승강장 문의입니다.  교통\n",
       "3            코로나 선별진료소 문의입니다.  보건\n",
       "4              버스 운행시간 문의입니다.  교통\n",
       "5            버스 터미널 위치 안내입니다.  교통\n",
       "6             코로나 거리두기 안내입니다.  보건\n",
       "7               택시 승강장 문의입니다.  교통"
      ]
     },
     "execution_count": 18,
     "metadata": {},
     "output_type": "execute_result"
    }
   ],
   "source": [
    "\n",
    "df['분류'] = df['문서'].apply(lambda x: '보건' if '코로나' in x else '교통')\n",
    "df"
   ]
  },
  {
   "cell_type": "code",
   "execution_count": 24,
   "metadata": {},
   "outputs": [
    {
     "data": {
      "text/html": [
       "<div>\n",
       "<style scoped>\n",
       "    .dataframe tbody tr th:only-of-type {\n",
       "        vertical-align: middle;\n",
       "    }\n",
       "\n",
       "    .dataframe tbody tr th {\n",
       "        vertical-align: top;\n",
       "    }\n",
       "\n",
       "    .dataframe thead th {\n",
       "        text-align: right;\n",
       "    }\n",
       "</style>\n",
       "<table border=\"1\" class=\"dataframe\">\n",
       "  <thead>\n",
       "    <tr style=\"text-align: right;\">\n",
       "      <th></th>\n",
       "      <th>거리두기</th>\n",
       "      <th>거리두기와</th>\n",
       "      <th>문의입니다</th>\n",
       "      <th>버스</th>\n",
       "      <th>상생지원금</th>\n",
       "      <th>선별진료소</th>\n",
       "      <th>승강장</th>\n",
       "      <th>안내입니다</th>\n",
       "      <th>요금</th>\n",
       "      <th>운행시간</th>\n",
       "      <th>운행시간과</th>\n",
       "      <th>위치</th>\n",
       "      <th>지하철</th>\n",
       "      <th>코로나</th>\n",
       "      <th>택시</th>\n",
       "      <th>터미널</th>\n",
       "    </tr>\n",
       "  </thead>\n",
       "  <tbody>\n",
       "    <tr>\n",
       "      <th>0</th>\n",
       "      <td>0</td>\n",
       "      <td>1</td>\n",
       "      <td>1</td>\n",
       "      <td>0</td>\n",
       "      <td>1</td>\n",
       "      <td>0</td>\n",
       "      <td>0</td>\n",
       "      <td>0</td>\n",
       "      <td>0</td>\n",
       "      <td>0</td>\n",
       "      <td>0</td>\n",
       "      <td>0</td>\n",
       "      <td>0</td>\n",
       "      <td>2</td>\n",
       "      <td>0</td>\n",
       "      <td>0</td>\n",
       "    </tr>\n",
       "    <tr>\n",
       "      <th>1</th>\n",
       "      <td>0</td>\n",
       "      <td>0</td>\n",
       "      <td>1</td>\n",
       "      <td>0</td>\n",
       "      <td>0</td>\n",
       "      <td>0</td>\n",
       "      <td>0</td>\n",
       "      <td>0</td>\n",
       "      <td>1</td>\n",
       "      <td>0</td>\n",
       "      <td>1</td>\n",
       "      <td>0</td>\n",
       "      <td>2</td>\n",
       "      <td>0</td>\n",
       "      <td>0</td>\n",
       "      <td>0</td>\n",
       "    </tr>\n",
       "    <tr>\n",
       "      <th>2</th>\n",
       "      <td>0</td>\n",
       "      <td>0</td>\n",
       "      <td>1</td>\n",
       "      <td>0</td>\n",
       "      <td>0</td>\n",
       "      <td>0</td>\n",
       "      <td>1</td>\n",
       "      <td>0</td>\n",
       "      <td>0</td>\n",
       "      <td>0</td>\n",
       "      <td>0</td>\n",
       "      <td>0</td>\n",
       "      <td>1</td>\n",
       "      <td>0</td>\n",
       "      <td>0</td>\n",
       "      <td>0</td>\n",
       "    </tr>\n",
       "    <tr>\n",
       "      <th>3</th>\n",
       "      <td>0</td>\n",
       "      <td>0</td>\n",
       "      <td>1</td>\n",
       "      <td>0</td>\n",
       "      <td>0</td>\n",
       "      <td>1</td>\n",
       "      <td>0</td>\n",
       "      <td>0</td>\n",
       "      <td>0</td>\n",
       "      <td>0</td>\n",
       "      <td>0</td>\n",
       "      <td>0</td>\n",
       "      <td>0</td>\n",
       "      <td>1</td>\n",
       "      <td>0</td>\n",
       "      <td>0</td>\n",
       "    </tr>\n",
       "    <tr>\n",
       "      <th>4</th>\n",
       "      <td>0</td>\n",
       "      <td>0</td>\n",
       "      <td>1</td>\n",
       "      <td>1</td>\n",
       "      <td>0</td>\n",
       "      <td>0</td>\n",
       "      <td>0</td>\n",
       "      <td>0</td>\n",
       "      <td>0</td>\n",
       "      <td>1</td>\n",
       "      <td>0</td>\n",
       "      <td>0</td>\n",
       "      <td>0</td>\n",
       "      <td>0</td>\n",
       "      <td>0</td>\n",
       "      <td>0</td>\n",
       "    </tr>\n",
       "    <tr>\n",
       "      <th>5</th>\n",
       "      <td>0</td>\n",
       "      <td>0</td>\n",
       "      <td>0</td>\n",
       "      <td>1</td>\n",
       "      <td>0</td>\n",
       "      <td>0</td>\n",
       "      <td>0</td>\n",
       "      <td>1</td>\n",
       "      <td>0</td>\n",
       "      <td>0</td>\n",
       "      <td>0</td>\n",
       "      <td>1</td>\n",
       "      <td>0</td>\n",
       "      <td>0</td>\n",
       "      <td>0</td>\n",
       "      <td>1</td>\n",
       "    </tr>\n",
       "    <tr>\n",
       "      <th>6</th>\n",
       "      <td>1</td>\n",
       "      <td>0</td>\n",
       "      <td>0</td>\n",
       "      <td>0</td>\n",
       "      <td>0</td>\n",
       "      <td>0</td>\n",
       "      <td>0</td>\n",
       "      <td>1</td>\n",
       "      <td>0</td>\n",
       "      <td>0</td>\n",
       "      <td>0</td>\n",
       "      <td>0</td>\n",
       "      <td>0</td>\n",
       "      <td>1</td>\n",
       "      <td>0</td>\n",
       "      <td>0</td>\n",
       "    </tr>\n",
       "    <tr>\n",
       "      <th>7</th>\n",
       "      <td>0</td>\n",
       "      <td>0</td>\n",
       "      <td>1</td>\n",
       "      <td>0</td>\n",
       "      <td>0</td>\n",
       "      <td>0</td>\n",
       "      <td>1</td>\n",
       "      <td>0</td>\n",
       "      <td>0</td>\n",
       "      <td>0</td>\n",
       "      <td>0</td>\n",
       "      <td>0</td>\n",
       "      <td>0</td>\n",
       "      <td>0</td>\n",
       "      <td>1</td>\n",
       "      <td>0</td>\n",
       "    </tr>\n",
       "  </tbody>\n",
       "</table>\n",
       "</div>"
      ],
      "text/plain": [
       "   거리두기  거리두기와  문의입니다  버스  상생지원금  선별진료소  승강장  안내입니다  요금  운행시간  운행시간과  위치  지하철  \\\n",
       "0     0      1      1   0      1      0    0      0   0     0      0   0    0   \n",
       "1     0      0      1   0      0      0    0      0   1     0      1   0    2   \n",
       "2     0      0      1   0      0      0    1      0   0     0      0   0    1   \n",
       "3     0      0      1   0      0      1    0      0   0     0      0   0    0   \n",
       "4     0      0      1   1      0      0    0      0   0     1      0   0    0   \n",
       "5     0      0      0   1      0      0    0      1   0     0      0   1    0   \n",
       "6     1      0      0   0      0      0    0      1   0     0      0   0    0   \n",
       "7     0      0      1   0      0      0    1      0   0     0      0   0    0   \n",
       "\n",
       "   코로나  택시  터미널  \n",
       "0    2   0    0  \n",
       "1    0   0    0  \n",
       "2    0   0    0  \n",
       "3    1   0    0  \n",
       "4    0   0    0  \n",
       "5    0   0    1  \n",
       "6    1   0    0  \n",
       "7    0   1    0  "
      ]
     },
     "execution_count": 24,
     "metadata": {},
     "output_type": "execute_result"
    }
   ],
   "source": [
    "import warnings\n",
    "warnings.filterwarnings(\"ignore\")\n",
    "\n",
    "from sklearn.feature_extraction.text import CountVectorizer\n",
    "\n",
    "cvect = CountVectorizer()\n",
    "dtm = cvect.fit_transform(df['문서'])\n",
    "df_dtm = pd.DataFrame(dtm.toarray(), columns=cvect.get_feature_names())\n",
    "df_dtm"
   ]
  },
  {
   "cell_type": "code",
   "execution_count": 36,
   "metadata": {},
   "outputs": [
    {
     "data": {
      "text/html": [
       "<style type=\"text/css\">\n",
       "#T_b3a05_row0_col0, #T_b3a05_row0_col2, #T_b3a05_row0_col4, #T_b3a05_row0_col5, #T_b3a05_row0_col6, #T_b3a05_row0_col7, #T_b3a05_row0_col8, #T_b3a05_row0_col9, #T_b3a05_row0_col10, #T_b3a05_row0_col12, #T_b3a05_row0_col13, #T_b3a05_row1_col0, #T_b3a05_row1_col1, #T_b3a05_row1_col2, #T_b3a05_row1_col3, #T_b3a05_row1_col4, #T_b3a05_row1_col5, #T_b3a05_row1_col7, #T_b3a05_row1_col9, #T_b3a05_row1_col11, #T_b3a05_row1_col12, #T_b3a05_row1_col13, #T_b3a05_row2_col0, #T_b3a05_row2_col1, #T_b3a05_row2_col2, #T_b3a05_row2_col3, #T_b3a05_row2_col4, #T_b3a05_row2_col6, #T_b3a05_row2_col7, #T_b3a05_row2_col8, #T_b3a05_row2_col9, #T_b3a05_row2_col11, #T_b3a05_row2_col12, #T_b3a05_row2_col13, #T_b3a05_row3_col0, #T_b3a05_row3_col1, #T_b3a05_row3_col2, #T_b3a05_row3_col3, #T_b3a05_row3_col5, #T_b3a05_row3_col6, #T_b3a05_row3_col7, #T_b3a05_row3_col8, #T_b3a05_row3_col9, #T_b3a05_row3_col10, #T_b3a05_row3_col12, #T_b3a05_row3_col13, #T_b3a05_row4_col0, #T_b3a05_row4_col1, #T_b3a05_row4_col3, #T_b3a05_row4_col4, #T_b3a05_row4_col5, #T_b3a05_row4_col6, #T_b3a05_row4_col8, #T_b3a05_row4_col9, #T_b3a05_row4_col10, #T_b3a05_row4_col11, #T_b3a05_row4_col12, #T_b3a05_row4_col13, #T_b3a05_row5_col0, #T_b3a05_row5_col1, #T_b3a05_row5_col3, #T_b3a05_row5_col4, #T_b3a05_row5_col5, #T_b3a05_row5_col6, #T_b3a05_row5_col7, #T_b3a05_row5_col8, #T_b3a05_row5_col10, #T_b3a05_row5_col11, #T_b3a05_row5_col12, #T_b3a05_row6_col1, #T_b3a05_row6_col2, #T_b3a05_row6_col3, #T_b3a05_row6_col4, #T_b3a05_row6_col5, #T_b3a05_row6_col6, #T_b3a05_row6_col7, #T_b3a05_row6_col8, #T_b3a05_row6_col9, #T_b3a05_row6_col10, #T_b3a05_row6_col12, #T_b3a05_row6_col13, #T_b3a05_row7_col0, #T_b3a05_row7_col1, #T_b3a05_row7_col2, #T_b3a05_row7_col3, #T_b3a05_row7_col4, #T_b3a05_row7_col6, #T_b3a05_row7_col7, #T_b3a05_row7_col8, #T_b3a05_row7_col9, #T_b3a05_row7_col10, #T_b3a05_row7_col11, #T_b3a05_row7_col13 {\n",
       "  background-color: #fff7fb;\n",
       "  color: #000000;\n",
       "}\n",
       "#T_b3a05_row0_col1, #T_b3a05_row0_col3, #T_b3a05_row0_col11, #T_b3a05_row1_col6, #T_b3a05_row1_col8, #T_b3a05_row1_col10, #T_b3a05_row2_col5, #T_b3a05_row3_col4, #T_b3a05_row4_col2, #T_b3a05_row4_col7, #T_b3a05_row5_col9, #T_b3a05_row5_col13, #T_b3a05_row6_col0, #T_b3a05_row7_col12 {\n",
       "  background-color: #023858;\n",
       "  color: #f1f1f1;\n",
       "}\n",
       "#T_b3a05_row2_col10 {\n",
       "  background-color: #034c78;\n",
       "  color: #f1f1f1;\n",
       "}\n",
       "#T_b3a05_row3_col11, #T_b3a05_row6_col11 {\n",
       "  background-color: #04649d;\n",
       "  color: #f1f1f1;\n",
       "}\n",
       "#T_b3a05_row5_col2 {\n",
       "  background-color: #0568a3;\n",
       "  color: #f1f1f1;\n",
       "}\n",
       "#T_b3a05_row7_col5 {\n",
       "  background-color: #03517e;\n",
       "  color: #f1f1f1;\n",
       "}\n",
       "</style>\n",
       "<table id=\"T_b3a05\">\n",
       "  <thead>\n",
       "    <tr>\n",
       "      <th class=\"blank level0\" >&nbsp;</th>\n",
       "      <th id=\"T_b3a05_level0_col0\" class=\"col_heading level0 col0\" >거리두기</th>\n",
       "      <th id=\"T_b3a05_level0_col1\" class=\"col_heading level0 col1\" >거리두기와</th>\n",
       "      <th id=\"T_b3a05_level0_col2\" class=\"col_heading level0 col2\" >버스</th>\n",
       "      <th id=\"T_b3a05_level0_col3\" class=\"col_heading level0 col3\" >상생지원금</th>\n",
       "      <th id=\"T_b3a05_level0_col4\" class=\"col_heading level0 col4\" >선별진료소</th>\n",
       "      <th id=\"T_b3a05_level0_col5\" class=\"col_heading level0 col5\" >승강장</th>\n",
       "      <th id=\"T_b3a05_level0_col6\" class=\"col_heading level0 col6\" >요금</th>\n",
       "      <th id=\"T_b3a05_level0_col7\" class=\"col_heading level0 col7\" >운행시간</th>\n",
       "      <th id=\"T_b3a05_level0_col8\" class=\"col_heading level0 col8\" >운행시간과</th>\n",
       "      <th id=\"T_b3a05_level0_col9\" class=\"col_heading level0 col9\" >위치</th>\n",
       "      <th id=\"T_b3a05_level0_col10\" class=\"col_heading level0 col10\" >지하철</th>\n",
       "      <th id=\"T_b3a05_level0_col11\" class=\"col_heading level0 col11\" >코로나</th>\n",
       "      <th id=\"T_b3a05_level0_col12\" class=\"col_heading level0 col12\" >택시</th>\n",
       "      <th id=\"T_b3a05_level0_col13\" class=\"col_heading level0 col13\" >터미널</th>\n",
       "    </tr>\n",
       "  </thead>\n",
       "  <tbody>\n",
       "    <tr>\n",
       "      <th id=\"T_b3a05_level0_row0\" class=\"row_heading level0 row0\" >0</th>\n",
       "      <td id=\"T_b3a05_row0_col0\" class=\"data row0 col0\" >0.000000</td>\n",
       "      <td id=\"T_b3a05_row0_col1\" class=\"data row0 col1\" >0.494346</td>\n",
       "      <td id=\"T_b3a05_row0_col2\" class=\"data row0 col2\" >0.000000</td>\n",
       "      <td id=\"T_b3a05_row0_col3\" class=\"data row0 col3\" >0.494346</td>\n",
       "      <td id=\"T_b3a05_row0_col4\" class=\"data row0 col4\" >0.000000</td>\n",
       "      <td id=\"T_b3a05_row0_col5\" class=\"data row0 col5\" >0.000000</td>\n",
       "      <td id=\"T_b3a05_row0_col6\" class=\"data row0 col6\" >0.000000</td>\n",
       "      <td id=\"T_b3a05_row0_col7\" class=\"data row0 col7\" >0.000000</td>\n",
       "      <td id=\"T_b3a05_row0_col8\" class=\"data row0 col8\" >0.000000</td>\n",
       "      <td id=\"T_b3a05_row0_col9\" class=\"data row0 col9\" >0.000000</td>\n",
       "      <td id=\"T_b3a05_row0_col10\" class=\"data row0 col10\" >0.000000</td>\n",
       "      <td id=\"T_b3a05_row0_col11\" class=\"data row0 col11\" >0.715014</td>\n",
       "      <td id=\"T_b3a05_row0_col12\" class=\"data row0 col12\" >0.000000</td>\n",
       "      <td id=\"T_b3a05_row0_col13\" class=\"data row0 col13\" >0.000000</td>\n",
       "    </tr>\n",
       "    <tr>\n",
       "      <th id=\"T_b3a05_level0_row1\" class=\"row_heading level0 row1\" >1</th>\n",
       "      <td id=\"T_b3a05_row1_col0\" class=\"data row1 col0\" >0.000000</td>\n",
       "      <td id=\"T_b3a05_row1_col1\" class=\"data row1 col1\" >0.000000</td>\n",
       "      <td id=\"T_b3a05_row1_col2\" class=\"data row1 col2\" >0.000000</td>\n",
       "      <td id=\"T_b3a05_row1_col3\" class=\"data row1 col3\" >0.000000</td>\n",
       "      <td id=\"T_b3a05_row1_col4\" class=\"data row1 col4\" >0.000000</td>\n",
       "      <td id=\"T_b3a05_row1_col5\" class=\"data row1 col5\" >0.000000</td>\n",
       "      <td id=\"T_b3a05_row1_col6\" class=\"data row1 col6\" >0.455984</td>\n",
       "      <td id=\"T_b3a05_row1_col7\" class=\"data row1 col7\" >0.000000</td>\n",
       "      <td id=\"T_b3a05_row1_col8\" class=\"data row1 col8\" >0.455984</td>\n",
       "      <td id=\"T_b3a05_row1_col9\" class=\"data row1 col9\" >0.000000</td>\n",
       "      <td id=\"T_b3a05_row1_col10\" class=\"data row1 col10\" >0.764301</td>\n",
       "      <td id=\"T_b3a05_row1_col11\" class=\"data row1 col11\" >0.000000</td>\n",
       "      <td id=\"T_b3a05_row1_col12\" class=\"data row1 col12\" >0.000000</td>\n",
       "      <td id=\"T_b3a05_row1_col13\" class=\"data row1 col13\" >0.000000</td>\n",
       "    </tr>\n",
       "    <tr>\n",
       "      <th id=\"T_b3a05_level0_row2\" class=\"row_heading level0 row2\" >2</th>\n",
       "      <td id=\"T_b3a05_row2_col0\" class=\"data row2 col0\" >0.000000</td>\n",
       "      <td id=\"T_b3a05_row2_col1\" class=\"data row2 col1\" >0.000000</td>\n",
       "      <td id=\"T_b3a05_row2_col2\" class=\"data row2 col2\" >0.000000</td>\n",
       "      <td id=\"T_b3a05_row2_col3\" class=\"data row2 col3\" >0.000000</td>\n",
       "      <td id=\"T_b3a05_row2_col4\" class=\"data row2 col4\" >0.000000</td>\n",
       "      <td id=\"T_b3a05_row2_col5\" class=\"data row2 col5\" >0.707107</td>\n",
       "      <td id=\"T_b3a05_row2_col6\" class=\"data row2 col6\" >0.000000</td>\n",
       "      <td id=\"T_b3a05_row2_col7\" class=\"data row2 col7\" >0.000000</td>\n",
       "      <td id=\"T_b3a05_row2_col8\" class=\"data row2 col8\" >0.000000</td>\n",
       "      <td id=\"T_b3a05_row2_col9\" class=\"data row2 col9\" >0.000000</td>\n",
       "      <td id=\"T_b3a05_row2_col10\" class=\"data row2 col10\" >0.707107</td>\n",
       "      <td id=\"T_b3a05_row2_col11\" class=\"data row2 col11\" >0.000000</td>\n",
       "      <td id=\"T_b3a05_row2_col12\" class=\"data row2 col12\" >0.000000</td>\n",
       "      <td id=\"T_b3a05_row2_col13\" class=\"data row2 col13\" >0.000000</td>\n",
       "    </tr>\n",
       "    <tr>\n",
       "      <th id=\"T_b3a05_level0_row3\" class=\"row_heading level0 row3\" >3</th>\n",
       "      <td id=\"T_b3a05_row3_col0\" class=\"data row3 col0\" >0.000000</td>\n",
       "      <td id=\"T_b3a05_row3_col1\" class=\"data row3 col1\" >0.000000</td>\n",
       "      <td id=\"T_b3a05_row3_col2\" class=\"data row3 col2\" >0.000000</td>\n",
       "      <td id=\"T_b3a05_row3_col3\" class=\"data row3 col3\" >0.000000</td>\n",
       "      <td id=\"T_b3a05_row3_col4\" class=\"data row3 col4\" >0.810306</td>\n",
       "      <td id=\"T_b3a05_row3_col5\" class=\"data row3 col5\" >0.000000</td>\n",
       "      <td id=\"T_b3a05_row3_col6\" class=\"data row3 col6\" >0.000000</td>\n",
       "      <td id=\"T_b3a05_row3_col7\" class=\"data row3 col7\" >0.000000</td>\n",
       "      <td id=\"T_b3a05_row3_col8\" class=\"data row3 col8\" >0.000000</td>\n",
       "      <td id=\"T_b3a05_row3_col9\" class=\"data row3 col9\" >0.000000</td>\n",
       "      <td id=\"T_b3a05_row3_col10\" class=\"data row3 col10\" >0.000000</td>\n",
       "      <td id=\"T_b3a05_row3_col11\" class=\"data row3 col11\" >0.586007</td>\n",
       "      <td id=\"T_b3a05_row3_col12\" class=\"data row3 col12\" >0.000000</td>\n",
       "      <td id=\"T_b3a05_row3_col13\" class=\"data row3 col13\" >0.000000</td>\n",
       "    </tr>\n",
       "    <tr>\n",
       "      <th id=\"T_b3a05_level0_row4\" class=\"row_heading level0 row4\" >4</th>\n",
       "      <td id=\"T_b3a05_row4_col0\" class=\"data row4 col0\" >0.000000</td>\n",
       "      <td id=\"T_b3a05_row4_col1\" class=\"data row4 col1\" >0.000000</td>\n",
       "      <td id=\"T_b3a05_row4_col2\" class=\"data row4 col2\" >0.642328</td>\n",
       "      <td id=\"T_b3a05_row4_col3\" class=\"data row4 col3\" >0.000000</td>\n",
       "      <td id=\"T_b3a05_row4_col4\" class=\"data row4 col4\" >0.000000</td>\n",
       "      <td id=\"T_b3a05_row4_col5\" class=\"data row4 col5\" >0.000000</td>\n",
       "      <td id=\"T_b3a05_row4_col6\" class=\"data row4 col6\" >0.000000</td>\n",
       "      <td id=\"T_b3a05_row4_col7\" class=\"data row4 col7\" >0.766430</td>\n",
       "      <td id=\"T_b3a05_row4_col8\" class=\"data row4 col8\" >0.000000</td>\n",
       "      <td id=\"T_b3a05_row4_col9\" class=\"data row4 col9\" >0.000000</td>\n",
       "      <td id=\"T_b3a05_row4_col10\" class=\"data row4 col10\" >0.000000</td>\n",
       "      <td id=\"T_b3a05_row4_col11\" class=\"data row4 col11\" >0.000000</td>\n",
       "      <td id=\"T_b3a05_row4_col12\" class=\"data row4 col12\" >0.000000</td>\n",
       "      <td id=\"T_b3a05_row4_col13\" class=\"data row4 col13\" >0.000000</td>\n",
       "    </tr>\n",
       "    <tr>\n",
       "      <th id=\"T_b3a05_level0_row5\" class=\"row_heading level0 row5\" >5</th>\n",
       "      <td id=\"T_b3a05_row5_col0\" class=\"data row5 col0\" >0.000000</td>\n",
       "      <td id=\"T_b3a05_row5_col1\" class=\"data row5 col1\" >0.000000</td>\n",
       "      <td id=\"T_b3a05_row5_col2\" class=\"data row5 col2\" >0.509814</td>\n",
       "      <td id=\"T_b3a05_row5_col3\" class=\"data row5 col3\" >0.000000</td>\n",
       "      <td id=\"T_b3a05_row5_col4\" class=\"data row5 col4\" >0.000000</td>\n",
       "      <td id=\"T_b3a05_row5_col5\" class=\"data row5 col5\" >0.000000</td>\n",
       "      <td id=\"T_b3a05_row5_col6\" class=\"data row5 col6\" >0.000000</td>\n",
       "      <td id=\"T_b3a05_row5_col7\" class=\"data row5 col7\" >0.000000</td>\n",
       "      <td id=\"T_b3a05_row5_col8\" class=\"data row5 col8\" >0.000000</td>\n",
       "      <td id=\"T_b3a05_row5_col9\" class=\"data row5 col9\" >0.608313</td>\n",
       "      <td id=\"T_b3a05_row5_col10\" class=\"data row5 col10\" >0.000000</td>\n",
       "      <td id=\"T_b3a05_row5_col11\" class=\"data row5 col11\" >0.000000</td>\n",
       "      <td id=\"T_b3a05_row5_col12\" class=\"data row5 col12\" >0.000000</td>\n",
       "      <td id=\"T_b3a05_row5_col13\" class=\"data row5 col13\" >0.608313</td>\n",
       "    </tr>\n",
       "    <tr>\n",
       "      <th id=\"T_b3a05_level0_row6\" class=\"row_heading level0 row6\" >6</th>\n",
       "      <td id=\"T_b3a05_row6_col0\" class=\"data row6 col0\" >0.810306</td>\n",
       "      <td id=\"T_b3a05_row6_col1\" class=\"data row6 col1\" >0.000000</td>\n",
       "      <td id=\"T_b3a05_row6_col2\" class=\"data row6 col2\" >0.000000</td>\n",
       "      <td id=\"T_b3a05_row6_col3\" class=\"data row6 col3\" >0.000000</td>\n",
       "      <td id=\"T_b3a05_row6_col4\" class=\"data row6 col4\" >0.000000</td>\n",
       "      <td id=\"T_b3a05_row6_col5\" class=\"data row6 col5\" >0.000000</td>\n",
       "      <td id=\"T_b3a05_row6_col6\" class=\"data row6 col6\" >0.000000</td>\n",
       "      <td id=\"T_b3a05_row6_col7\" class=\"data row6 col7\" >0.000000</td>\n",
       "      <td id=\"T_b3a05_row6_col8\" class=\"data row6 col8\" >0.000000</td>\n",
       "      <td id=\"T_b3a05_row6_col9\" class=\"data row6 col9\" >0.000000</td>\n",
       "      <td id=\"T_b3a05_row6_col10\" class=\"data row6 col10\" >0.000000</td>\n",
       "      <td id=\"T_b3a05_row6_col11\" class=\"data row6 col11\" >0.586007</td>\n",
       "      <td id=\"T_b3a05_row6_col12\" class=\"data row6 col12\" >0.000000</td>\n",
       "      <td id=\"T_b3a05_row6_col13\" class=\"data row6 col13\" >0.000000</td>\n",
       "    </tr>\n",
       "    <tr>\n",
       "      <th id=\"T_b3a05_level0_row7\" class=\"row_heading level0 row7\" >7</th>\n",
       "      <td id=\"T_b3a05_row7_col0\" class=\"data row7 col0\" >0.000000</td>\n",
       "      <td id=\"T_b3a05_row7_col1\" class=\"data row7 col1\" >0.000000</td>\n",
       "      <td id=\"T_b3a05_row7_col2\" class=\"data row7 col2\" >0.000000</td>\n",
       "      <td id=\"T_b3a05_row7_col3\" class=\"data row7 col3\" >0.000000</td>\n",
       "      <td id=\"T_b3a05_row7_col4\" class=\"data row7 col4\" >0.000000</td>\n",
       "      <td id=\"T_b3a05_row7_col5\" class=\"data row7 col5\" >0.642328</td>\n",
       "      <td id=\"T_b3a05_row7_col6\" class=\"data row7 col6\" >0.000000</td>\n",
       "      <td id=\"T_b3a05_row7_col7\" class=\"data row7 col7\" >0.000000</td>\n",
       "      <td id=\"T_b3a05_row7_col8\" class=\"data row7 col8\" >0.000000</td>\n",
       "      <td id=\"T_b3a05_row7_col9\" class=\"data row7 col9\" >0.000000</td>\n",
       "      <td id=\"T_b3a05_row7_col10\" class=\"data row7 col10\" >0.000000</td>\n",
       "      <td id=\"T_b3a05_row7_col11\" class=\"data row7 col11\" >0.000000</td>\n",
       "      <td id=\"T_b3a05_row7_col12\" class=\"data row7 col12\" >0.766430</td>\n",
       "      <td id=\"T_b3a05_row7_col13\" class=\"data row7 col13\" >0.000000</td>\n",
       "    </tr>\n",
       "  </tbody>\n",
       "</table>\n"
      ],
      "text/plain": [
       "<pandas.io.formats.style.Styler at 0x7fdd6a589e20>"
      ]
     },
     "execution_count": 36,
     "metadata": {},
     "output_type": "execute_result"
    }
   ],
   "source": [
    "from sklearn.feature_extraction.text import TfidfVectorizer\n",
    "\n",
    "stopwords = ['문의입니다', '안내입니다']\n",
    "tfidfvect = TfidfVectorizer(min_df=.1, max_df=.8, max_features=50, stop_words=stopwords)\n",
    "tfidf_dtm = tfidfvect.fit_transform(df['문서'])\n",
    "df_tfidf_dtm = pd.DataFrame(tfidf_dtm.toarray(), columns=tfidfvect.get_feature_names())\n",
    "df_tfidf_dtm.style.background_gradient()"
   ]
  },
  {
   "cell_type": "code",
   "execution_count": 40,
   "metadata": {},
   "outputs": [],
   "source": [
    "\n",
    "X = tfidf_dtm.toarray()"
   ]
  },
  {
   "cell_type": "code",
   "execution_count": 41,
   "metadata": {},
   "outputs": [],
   "source": [
    "\n",
    "y = df['분류']"
   ]
  },
  {
   "cell_type": "code",
   "execution_count": 42,
   "metadata": {},
   "outputs": [],
   "source": [
    "\n",
    "from sklearn.model_selection import train_test_split\n",
    "\n",
    "X_train, X_test, y_train, y_test = train_test_split(X, y, test_size=0.2, random_state=42)"
   ]
  },
  {
   "cell_type": "code",
   "execution_count": 48,
   "metadata": {},
   "outputs": [
    {
     "data": {
      "text/plain": [
       "((6, 14), (6,))"
      ]
     },
     "execution_count": 48,
     "metadata": {},
     "output_type": "execute_result"
    }
   ],
   "source": [
    "\n",
    "X_train.shape, y_train.shape"
   ]
  },
  {
   "cell_type": "code",
   "execution_count": 49,
   "metadata": {},
   "outputs": [
    {
     "data": {
      "text/plain": [
       "((2, 14), (2,))"
      ]
     },
     "execution_count": 49,
     "metadata": {},
     "output_type": "execute_result"
    }
   ],
   "source": [
    "\n",
    "X_test.shape, y_test.shape\n"
   ]
  },
  {
   "cell_type": "code",
   "execution_count": 45,
   "metadata": {},
   "outputs": [],
   "source": [
    "from sklearn.tree import DecisionTreeClassifier\n",
    "\n",
    "dt_classifier = DecisionTreeClassifier(random_state=42, \n",
    "                                       max_depth=3, \n",
    "                                       min_samples_leaf=5, \n",
    "                                       min_samples_split=5,\n",
    "                                       max_features=None, \n",
    "                                       class_weight='balanced', \n",
    "                                       criterion='gini',\n",
    "                                       )"
   ]
  },
  {
   "cell_type": "code",
   "execution_count": 46,
   "metadata": {},
   "outputs": [
    {
     "data": {
      "text/plain": [
       "DecisionTreeClassifier(class_weight='balanced', max_depth=3, min_samples_leaf=5,\n",
       "                       min_samples_split=5, random_state=42)"
      ]
     },
     "execution_count": 46,
     "metadata": {},
     "output_type": "execute_result"
    }
   ],
   "source": [
    "dt_classifier.fit(X_train, y_train)"
   ]
  },
  {
   "cell_type": "code",
   "execution_count": 50,
   "metadata": {},
   "outputs": [],
   "source": [
    "y_predict = dt_classifier.predict(X_test)"
   ]
  },
  {
   "cell_type": "code",
   "execution_count": 54,
   "metadata": {},
   "outputs": [
    {
     "data": {
      "text/plain": [
       "100.0"
      ]
     },
     "execution_count": 54,
     "metadata": {},
     "output_type": "execute_result"
    }
   ],
   "source": [
    "(y_test == y_predict).mean()*100"
   ]
  },
  {
   "cell_type": "code",
   "execution_count": 56,
   "metadata": {},
   "outputs": [
    {
     "data": {
      "text/plain": [
       "100.0"
      ]
     },
     "execution_count": 56,
     "metadata": {},
     "output_type": "execute_result"
    }
   ],
   "source": [
    "\n",
    "from sklearn.metrics import accuracy_score\n",
    "\n",
    "accuracy_score(y_test, y_predict)*100"
   ]
  },
  {
   "cell_type": "code",
   "execution_count": 60,
   "metadata": {},
   "outputs": [
    {
     "data": {
      "text/html": [
       "<div>\n",
       "<style scoped>\n",
       "    .dataframe tbody tr th:only-of-type {\n",
       "        vertical-align: middle;\n",
       "    }\n",
       "\n",
       "    .dataframe tbody tr th {\n",
       "        vertical-align: top;\n",
       "    }\n",
       "\n",
       "    .dataframe thead th {\n",
       "        text-align: right;\n",
       "    }\n",
       "</style>\n",
       "<table border=\"1\" class=\"dataframe\">\n",
       "  <thead>\n",
       "    <tr style=\"text-align: right;\">\n",
       "      <th>분류</th>\n",
       "      <th>교통</th>\n",
       "    </tr>\n",
       "    <tr>\n",
       "      <th>row_0</th>\n",
       "      <th></th>\n",
       "    </tr>\n",
       "  </thead>\n",
       "  <tbody>\n",
       "    <tr>\n",
       "      <th>교통</th>\n",
       "      <td>2</td>\n",
       "    </tr>\n",
       "  </tbody>\n",
       "</table>\n",
       "</div>"
      ],
      "text/plain": [
       "분류     교통\n",
       "row_0    \n",
       "교통      2"
      ]
     },
     "execution_count": 60,
     "metadata": {},
     "output_type": "execute_result"
    }
   ],
   "source": [
    "pd.crosstab()"
   ]
  },
  {
   "cell_type": "code",
   "execution_count": 61,
   "metadata": {},
   "outputs": [
    {
     "data": {
      "text/plain": [
       "array([[2]])"
      ]
     },
     "execution_count": 61,
     "metadata": {},
     "output_type": "execute_result"
    }
   ],
   "source": [
    "from sklearn.metrics import confusion_matrix\n",
    "\n",
    "confusion_matrix(y_test, y_predict)"
   ]
  }
 ],
 "metadata": {
  "kernelspec": {
   "display_name": "Python 3.9.12 ('base')",
   "language": "python",
   "name": "python3"
  },
  "language_info": {
   "codemirror_mode": {
    "name": "ipython",
    "version": 3
   },
   "file_extension": ".py",
   "mimetype": "text/x-python",
   "name": "python",
   "nbconvert_exporter": "python",
   "pygments_lexer": "ipython3",
   "version": "3.9.12"
  },
  "toc": {
   "base_numbering": 1,
   "nav_menu": {},
   "number_sections": true,
   "sideBar": true,
   "skip_h1_title": false,
   "title_cell": "Table of Contents",
   "title_sidebar": "Contents",
   "toc_cell": false,
   "toc_position": {
    "height": "calc(100% - 180px)",
    "left": "10px",
    "top": "150px",
    "width": "320px"
   },
   "toc_section_display": true,
   "toc_window_display": true
  },
  "varInspector": {
   "cols": {
    "lenName": 16,
    "lenType": 16,
    "lenVar": 40
   },
   "kernels_config": {
    "python": {
     "delete_cmd_postfix": "",
     "delete_cmd_prefix": "del ",
     "library": "var_list.py",
     "varRefreshCmd": "print(var_dic_list())"
    },
    "r": {
     "delete_cmd_postfix": ") ",
     "delete_cmd_prefix": "rm(",
     "library": "var_list.r",
     "varRefreshCmd": "cat(var_dic_list()) "
    }
   },
   "types_to_exclude": [
    "module",
    "function",
    "builtin_function_or_method",
    "instance",
    "_Feature"
   ],
   "window_display": false
  },
  "vscode": {
   "interpreter": {
    "hash": "c8b81a4ae991c67bfb47672baeabb5576ca112a43d0fa6ac04e4e31197f4fb14"
   }
  }
 },
 "nbformat": 4,
 "nbformat_minor": 4
}
